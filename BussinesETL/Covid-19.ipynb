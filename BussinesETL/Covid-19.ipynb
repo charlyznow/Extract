{
 "cells": [
  {
   "cell_type": "code",
   "execution_count": 17,
   "metadata": {},
   "outputs": [],
   "source": [
    "import pandas as pd\n",
    "import requests\n"
   ]
  },
  {
   "cell_type": "code",
   "execution_count": 18,
   "metadata": {},
   "outputs": [],
   "source": [
    "url = 'https://api.covid19api.com/summary'\n",
    "r = requests.get(url).json()"
   ]
  },
  {
   "cell_type": "code",
   "execution_count": 19,
   "metadata": {},
   "outputs": [
    {
     "ename": "NameError",
     "evalue": "name 'respose_info' is not defined",
     "output_type": "error",
     "traceback": [
      "\u001b[1;31m---------------------------------------------------------------------------\u001b[0m",
      "\u001b[1;31mNameError\u001b[0m                                 Traceback (most recent call last)",
      "\u001b[1;32mc:\\Users\\carlos.nieves\\Documents\\Campus\\BussinesETL\\Covid-19.ipynb Cell 3\u001b[0m in \u001b[0;36m<cell line: 3>\u001b[1;34m()\u001b[0m\n\u001b[0;32m      <a href='vscode-notebook-cell:/c%3A/Users/carlos.nieves/Documents/Campus/BussinesETL/Covid-19.ipynb#W2sZmlsZQ%3D%3D?line=0'>1</a>\u001b[0m country_list \u001b[39m=\u001b[39m []\n\u001b[1;32m----> <a href='vscode-notebook-cell:/c%3A/Users/carlos.nieves/Documents/Campus/BussinesETL/Covid-19.ipynb#W2sZmlsZQ%3D%3D?line=2'>3</a>\u001b[0m \u001b[39mfor\u001b[39;00m country_info \u001b[39min\u001b[39;00m respose_info[\u001b[39m'\u001b[39m\u001b[39mCountries\u001b[39m\u001b[39m'\u001b[39m]:\n\u001b[0;32m      <a href='vscode-notebook-cell:/c%3A/Users/carlos.nieves/Documents/Campus/BussinesETL/Covid-19.ipynb#W2sZmlsZQ%3D%3D?line=3'>4</a>\u001b[0m     country_list\u001b[39m.\u001b[39mappend([country_info[\u001b[39m'\u001b[39m\u001b[39mCountry\u001b[39m\u001b[39m'\u001b[39m], \n\u001b[0;32m      <a href='vscode-notebook-cell:/c%3A/Users/carlos.nieves/Documents/Campus/BussinesETL/Covid-19.ipynb#W2sZmlsZQ%3D%3D?line=4'>5</a>\u001b[0m     country_info[\u001b[39m'\u001b[39m\u001b[39mTotalConfirmed\u001b[39m\u001b[39m'\u001b[39m]])\n",
      "\u001b[1;31mNameError\u001b[0m: name 'respose_info' is not defined"
     ]
    }
   ],
   "source": [
    "country_list = []\n",
    "\n",
    "for country_info in respose_info['Countries']:\n",
    "    country_list.append([country_info['Country'], \n",
    "    country_info['TotalConfirmed']])"
   ]
  },
  {
   "cell_type": "code",
   "execution_count": null,
   "metadata": {},
   "outputs": [],
   "source": []
  }
 ],
 "metadata": {
  "kernelspec": {
   "display_name": "Python 3.9.12 64-bit ('Anaconda3')",
   "language": "python",
   "name": "python3"
  },
  "language_info": {
   "codemirror_mode": {
    "name": "ipython",
    "version": 3
   },
   "file_extension": ".py",
   "mimetype": "text/x-python",
   "name": "python",
   "nbconvert_exporter": "python",
   "pygments_lexer": "ipython3",
   "version": "3.9.12"
  },
  "orig_nbformat": 4,
  "vscode": {
   "interpreter": {
    "hash": "eb98181065ce6da2c9d34a9fbab8428831962f53ad480adb54f413ab5c22cca5"
   }
  }
 },
 "nbformat": 4,
 "nbformat_minor": 2
}
